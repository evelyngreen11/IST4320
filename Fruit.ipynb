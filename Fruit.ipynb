{
 "cells": [
  {
   "cell_type": "code",
   "execution_count": 34,
   "id": "3ca87d0b-ace5-4769-881e-46eb376de2a9",
   "metadata": {},
   "outputs": [
    {
     "name": "stdin",
     "output_type": "stream",
     "text": [
      "What fruit would you like? (Orange, Banana, Grapes, Peach)  Grapes\n"
     ]
    },
    {
     "name": "stdout",
     "output_type": "stream",
     "text": [
      "Yay! :)\n"
     ]
    }
   ],
   "source": [
    "    fruit = input(\"What fruit would you like? (Orange, Banana, Grapes, Peach) \")\n",
    "    if fruit == \"Grapes\":\n",
    "          print(\"Yay! :)\")\n",
    "    elif fruit == \"Banana\":\n",
    "          print(\"Gross!!\")\n",
    "    elif fruit == \"Orange\":\n",
    "          print(\"Best Choice!\")\n",
    "    else:\n",
    "        print(\"Bad choice!\")"
   ]
  },
  {
   "cell_type": "code",
   "execution_count": null,
   "id": "c7c6faea-9c01-4569-920d-bc23dc8ebf91",
   "metadata": {},
   "outputs": [],
   "source": []
  }
 ],
 "metadata": {
  "kernelspec": {
   "display_name": "Python 3 (ipykernel)",
   "language": "python",
   "name": "python3"
  },
  "language_info": {
   "codemirror_mode": {
    "name": "ipython",
    "version": 3
   },
   "file_extension": ".py",
   "mimetype": "text/x-python",
   "name": "python",
   "nbconvert_exporter": "python",
   "pygments_lexer": "ipython3",
   "version": "3.9.10"
  }
 },
 "nbformat": 4,
 "nbformat_minor": 5
}
